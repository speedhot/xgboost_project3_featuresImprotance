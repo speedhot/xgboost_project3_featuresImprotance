{
 "cells": [
  {
   "cell_type": "code",
   "execution_count": 1,
   "metadata": {},
   "outputs": [
    {
     "name": "stderr",
     "output_type": "stream",
     "text": [
      "C:\\ProgramData\\Anaconda3\\lib\\site-packages\\sklearn\\ensemble\\weight_boosting.py:29: DeprecationWarning: numpy.core.umath_tests is an internal NumPy module and should not be imported. It will be removed in a future NumPy release.\n",
      "  from numpy.core.umath_tests import inner1d\n"
     ]
    }
   ],
   "source": [
    "#import Section\n",
    "import numpy as np\n",
    "import pandas as pd\n",
    "import matplotlib.pyplot as plt\n",
    "import sklearn\n",
    "import re\n",
    "from sklearn import preprocessing\n",
    "from sklearn.preprocessing import LabelEncoder\n",
    "\n",
    "from sklearn.ensemble import RandomForestClassifier, BaggingClassifier, AdaBoostClassifier, GradientBoostingClassifier, VotingClassifier\n",
    "from sklearn.linear_model import LogisticRegression\n",
    "from sklearn.tree import DecisionTreeClassifier\n",
    "from sklearn.svm import SVC\n",
    "from xgboost.sklearn import XGBClassifier\n",
    "import xgboost as xgb\n",
    "\n",
    "\n",
    "from sklearn.metrics import log_loss, accuracy_score, auc, roc_auc_score, average_precision_score,precision_score, recall_score, f1_score\n",
    "from sklearn.model_selection import train_test_split, KFold, StratifiedKFold"
   ]
  },
  {
   "cell_type": "markdown",
   "metadata": {},
   "source": [
    "# 1. Reading Data"
   ]
  },
  {
   "cell_type": "code",
   "execution_count": 2,
   "metadata": {},
   "outputs": [
    {
     "data": {
      "text/plain": [
       "((32561, 15), (16281, 15))"
      ]
     },
     "execution_count": 2,
     "metadata": {},
     "output_type": "execute_result"
    }
   ],
   "source": [
    "url='./adult.data'\n",
    "#columns name according to adult.names\n",
    "cols=[\"age\",\"workclass\",\"fnlwgt\",\"education\",\"education-num\",\"marital-status\", \"occupation\", \"relationship\", \"race\", \"sex\", \"capital-gain\", \"capital-loss\", \"hours-per-week\",\"native-country\",\"wage_class\"]\n",
    "\n",
    "train_set=pd.read_csv(url, names=cols)   # reading and setting names\n",
    "test_set = pd.read_csv('./adult.test',skiprows = 1, header = None, names=cols)   #coz row one is multi index \n",
    "\n",
    "#test_set.head()\n",
    "#train_set.head()\n",
    "train_set.shape, test_set.shape"
   ]
  },
  {
   "cell_type": "markdown",
   "metadata": {},
   "source": [
    "## 2. Pre-Processing"
   ]
  },
  {
   "cell_type": "code",
   "execution_count": 3,
   "metadata": {},
   "outputs": [
    {
     "data": {
      "text/plain": [
       "(48842, 16)"
      ]
     },
     "execution_count": 3,
     "metadata": {},
     "output_type": "execute_result"
    }
   ],
   "source": [
    "#appending both as we know both having same column so we can pre-process them in same frame\n",
    "\n",
    "#adding extra column to both mark tarin and test seperately\n",
    "train_set['mark']=\"train_set\"\n",
    "test_set['mark']=\"test_set\"\n",
    "df1 = train_set.append(test_set)\n",
    "df1.shape"
   ]
  },
  {
   "cell_type": "code",
   "execution_count": 4,
   "metadata": {},
   "outputs": [],
   "source": [
    "#checking intigrity after append\n",
    "#df1.head()\n",
    "#df1.columns\n",
    "#df1.mark.value_counts()\n",
    "#df1.mark.unique()"
   ]
  },
  {
   "cell_type": "code",
   "execution_count": 5,
   "metadata": {},
   "outputs": [
    {
     "data": {
      "text/plain": [
       "age               0\n",
       "workclass         0\n",
       "fnlwgt            0\n",
       "education         0\n",
       "education-num     0\n",
       "marital-status    0\n",
       "occupation        0\n",
       "relationship      0\n",
       "race              0\n",
       "sex               0\n",
       "capital-gain      0\n",
       "capital-loss      0\n",
       "hours-per-week    0\n",
       "native-country    0\n",
       "wage_class        0\n",
       "mark              0\n",
       "dtype: int64"
      ]
     },
     "execution_count": 5,
     "metadata": {},
     "output_type": "execute_result"
    }
   ],
   "source": [
    "#check for null\n",
    "df1.isnull().sum()"
   ]
  },
  {
   "cell_type": "markdown",
   "metadata": {},
   "source": [
    "Observation: There is no null values but might be some malicious or unmeaningful data identify that"
   ]
  },
  {
   "cell_type": "code",
   "execution_count": 6,
   "metadata": {},
   "outputs": [
    {
     "data": {
      "text/plain": [
       "age                int64\n",
       "workclass         object\n",
       "fnlwgt             int64\n",
       "education         object\n",
       "education-num      int64\n",
       "marital-status    object\n",
       "occupation        object\n",
       "relationship      object\n",
       "race              object\n",
       "sex               object\n",
       "capital-gain       int64\n",
       "capital-loss       int64\n",
       "hours-per-week     int64\n",
       "native-country    object\n",
       "wage_class        object\n",
       "mark              object\n",
       "dtype: object"
      ]
     },
     "execution_count": 6,
     "metadata": {},
     "output_type": "execute_result"
    }
   ],
   "source": [
    "#first identify the columns types\n",
    "df1.dtypes "
   ]
  },
  {
   "cell_type": "code",
   "execution_count": 57,
   "metadata": {},
   "outputs": [
    {
     "data": {
      "text/html": [
       "<div>\n",
       "<style scoped>\n",
       "    .dataframe tbody tr th:only-of-type {\n",
       "        vertical-align: middle;\n",
       "    }\n",
       "\n",
       "    .dataframe tbody tr th {\n",
       "        vertical-align: top;\n",
       "    }\n",
       "\n",
       "    .dataframe thead th {\n",
       "        text-align: right;\n",
       "    }\n",
       "</style>\n",
       "<table border=\"1\" class=\"dataframe\">\n",
       "  <thead>\n",
       "    <tr style=\"text-align: right;\">\n",
       "      <th></th>\n",
       "      <th>count</th>\n",
       "      <th>mean</th>\n",
       "      <th>std</th>\n",
       "      <th>min</th>\n",
       "      <th>25%</th>\n",
       "      <th>50%</th>\n",
       "      <th>75%</th>\n",
       "      <th>max</th>\n",
       "    </tr>\n",
       "  </thead>\n",
       "  <tbody>\n",
       "    <tr>\n",
       "      <th>age</th>\n",
       "      <td>48842.0</td>\n",
       "      <td>38.643585</td>\n",
       "      <td>13.710510</td>\n",
       "      <td>17.0</td>\n",
       "      <td>28.0</td>\n",
       "      <td>37.0</td>\n",
       "      <td>48.0</td>\n",
       "      <td>90.0</td>\n",
       "    </tr>\n",
       "    <tr>\n",
       "      <th>fnlwgt</th>\n",
       "      <td>48842.0</td>\n",
       "      <td>189664.134597</td>\n",
       "      <td>105604.025423</td>\n",
       "      <td>12285.0</td>\n",
       "      <td>117550.5</td>\n",
       "      <td>178144.5</td>\n",
       "      <td>237642.0</td>\n",
       "      <td>1490400.0</td>\n",
       "    </tr>\n",
       "    <tr>\n",
       "      <th>education-num</th>\n",
       "      <td>48842.0</td>\n",
       "      <td>10.078089</td>\n",
       "      <td>2.570973</td>\n",
       "      <td>1.0</td>\n",
       "      <td>9.0</td>\n",
       "      <td>10.0</td>\n",
       "      <td>12.0</td>\n",
       "      <td>16.0</td>\n",
       "    </tr>\n",
       "    <tr>\n",
       "      <th>capital-gain</th>\n",
       "      <td>48842.0</td>\n",
       "      <td>1079.067626</td>\n",
       "      <td>7452.019058</td>\n",
       "      <td>0.0</td>\n",
       "      <td>0.0</td>\n",
       "      <td>0.0</td>\n",
       "      <td>0.0</td>\n",
       "      <td>99999.0</td>\n",
       "    </tr>\n",
       "    <tr>\n",
       "      <th>capital-loss</th>\n",
       "      <td>48842.0</td>\n",
       "      <td>87.502314</td>\n",
       "      <td>403.004552</td>\n",
       "      <td>0.0</td>\n",
       "      <td>0.0</td>\n",
       "      <td>0.0</td>\n",
       "      <td>0.0</td>\n",
       "      <td>4356.0</td>\n",
       "    </tr>\n",
       "    <tr>\n",
       "      <th>hours-per-week</th>\n",
       "      <td>48842.0</td>\n",
       "      <td>40.422382</td>\n",
       "      <td>12.391444</td>\n",
       "      <td>1.0</td>\n",
       "      <td>40.0</td>\n",
       "      <td>40.0</td>\n",
       "      <td>45.0</td>\n",
       "      <td>99.0</td>\n",
       "    </tr>\n",
       "  </tbody>\n",
       "</table>\n",
       "</div>"
      ],
      "text/plain": [
       "                  count           mean            std      min       25%  \\\n",
       "age             48842.0      38.643585      13.710510     17.0      28.0   \n",
       "fnlwgt          48842.0  189664.134597  105604.025423  12285.0  117550.5   \n",
       "education-num   48842.0      10.078089       2.570973      1.0       9.0   \n",
       "capital-gain    48842.0    1079.067626    7452.019058      0.0       0.0   \n",
       "capital-loss    48842.0      87.502314     403.004552      0.0       0.0   \n",
       "hours-per-week  48842.0      40.422382      12.391444      1.0      40.0   \n",
       "\n",
       "                     50%       75%        max  \n",
       "age                 37.0      48.0       90.0  \n",
       "fnlwgt          178144.5  237642.0  1490400.0  \n",
       "education-num       10.0      12.0       16.0  \n",
       "capital-gain         0.0       0.0    99999.0  \n",
       "capital-loss         0.0       0.0     4356.0  \n",
       "hours-per-week      40.0      45.0       99.0  "
      ]
     },
     "execution_count": 57,
     "metadata": {},
     "output_type": "execute_result"
    }
   ],
   "source": [
    "df1.describe().transpose()"
   ]
  },
  {
   "cell_type": "code",
   "execution_count": 58,
   "metadata": {},
   "outputs": [
    {
     "data": {
      "text/html": [
       "<div>\n",
       "<style scoped>\n",
       "    .dataframe tbody tr th:only-of-type {\n",
       "        vertical-align: middle;\n",
       "    }\n",
       "\n",
       "    .dataframe tbody tr th {\n",
       "        vertical-align: top;\n",
       "    }\n",
       "\n",
       "    .dataframe thead th {\n",
       "        text-align: right;\n",
       "    }\n",
       "</style>\n",
       "<table border=\"1\" class=\"dataframe\">\n",
       "  <thead>\n",
       "    <tr style=\"text-align: right;\">\n",
       "      <th></th>\n",
       "      <th>workclass</th>\n",
       "      <th>education</th>\n",
       "      <th>marital-status</th>\n",
       "      <th>occupation</th>\n",
       "      <th>relationship</th>\n",
       "      <th>race</th>\n",
       "      <th>sex</th>\n",
       "      <th>native-country</th>\n",
       "      <th>wage_class</th>\n",
       "      <th>mark</th>\n",
       "    </tr>\n",
       "  </thead>\n",
       "  <tbody>\n",
       "    <tr>\n",
       "      <th>count</th>\n",
       "      <td>48842</td>\n",
       "      <td>48842</td>\n",
       "      <td>48842</td>\n",
       "      <td>48842</td>\n",
       "      <td>48842</td>\n",
       "      <td>48842</td>\n",
       "      <td>48842</td>\n",
       "      <td>48842</td>\n",
       "      <td>48842</td>\n",
       "      <td>48842</td>\n",
       "    </tr>\n",
       "    <tr>\n",
       "      <th>unique</th>\n",
       "      <td>9</td>\n",
       "      <td>16</td>\n",
       "      <td>7</td>\n",
       "      <td>15</td>\n",
       "      <td>6</td>\n",
       "      <td>5</td>\n",
       "      <td>2</td>\n",
       "      <td>42</td>\n",
       "      <td>2</td>\n",
       "      <td>2</td>\n",
       "    </tr>\n",
       "    <tr>\n",
       "      <th>top</th>\n",
       "      <td>Private</td>\n",
       "      <td>HS-grad</td>\n",
       "      <td>Married-civ-spouse</td>\n",
       "      <td>Prof-specialty</td>\n",
       "      <td>Husband</td>\n",
       "      <td>White</td>\n",
       "      <td>Male</td>\n",
       "      <td>United-States</td>\n",
       "      <td>&lt;=50K</td>\n",
       "      <td>train_set</td>\n",
       "    </tr>\n",
       "    <tr>\n",
       "      <th>freq</th>\n",
       "      <td>33906</td>\n",
       "      <td>15784</td>\n",
       "      <td>22379</td>\n",
       "      <td>6172</td>\n",
       "      <td>19716</td>\n",
       "      <td>41762</td>\n",
       "      <td>32650</td>\n",
       "      <td>43832</td>\n",
       "      <td>37155</td>\n",
       "      <td>32561</td>\n",
       "    </tr>\n",
       "  </tbody>\n",
       "</table>\n",
       "</div>"
      ],
      "text/plain": [
       "       workclass education       marital-status       occupation relationship  \\\n",
       "count      48842     48842                48842            48842        48842   \n",
       "unique         9        16                    7               15            6   \n",
       "top      Private   HS-grad   Married-civ-spouse   Prof-specialty      Husband   \n",
       "freq       33906     15784                22379             6172        19716   \n",
       "\n",
       "          race    sex  native-country wage_class       mark  \n",
       "count    48842  48842           48842      48842      48842  \n",
       "unique       5      2              42          2          2  \n",
       "top      White   Male   United-States      <=50K  train_set  \n",
       "freq     41762  32650           43832      37155      32561  "
      ]
     },
     "execution_count": 58,
     "metadata": {},
     "output_type": "execute_result"
    }
   ],
   "source": [
    "df1.describe(include='O')   # object type columns"
   ]
  },
  {
   "cell_type": "code",
   "execution_count": 60,
   "metadata": {},
   "outputs": [
    {
     "data": {
      "image/png": "[encoded data removed]",
      "text/plain": [
       "<Figure size 1440x720 with 6 Axes>"
      ]
     },
     "metadata": {
      "needs_background": "light"
     },
     "output_type": "display_data"
    }
   ],
   "source": [
    "# data Distribution\n",
    "df1.hist(figsize=(20,10))\n",
    "plt.show()"
   ]
  },
  {
   "cell_type": "code",
   "execution_count": 7,
   "metadata": {},
   "outputs": [],
   "source": [
    "#Collect columns type wise in differnt lists\n",
    "obj_cols = []\n",
    "num_cols = []\n",
    "for col_type in df1.columns:\n",
    "    if df1[col_type].dtype == 'object':\n",
    "        obj_cols.append(col_type)\n",
    "    else:\n",
    "        num_cols.append(col_type)\n",
    "    \n",
    "#num_cols,obj_cols\n"
   ]
  },
  {
   "cell_type": "code",
   "execution_count": 8,
   "metadata": {},
   "outputs": [
    {
     "name": "stdout",
     "output_type": "stream",
     "text": [
      "__________ workclass __________\n",
      " Private             33906\n",
      " Self-emp-not-inc     3862\n",
      " Local-gov            3136\n",
      " ?                    2799\n",
      " State-gov            1981\n",
      " Self-emp-inc         1695\n",
      " Federal-gov          1432\n",
      " Without-pay            21\n",
      " Never-worked           10\n",
      "Name: workclass, dtype: int64\n",
      "__________ Uniqe values in workclass __________\n",
      "[' State-gov' ' Self-emp-not-inc' ' Private' ' Federal-gov' ' Local-gov'\n",
      " ' ?' ' Self-emp-inc' ' Without-pay' ' Never-worked']\n",
      "Total Unique Count: 9\n",
      "__________ education __________\n",
      " HS-grad         15784\n",
      " Some-college    10878\n",
      " Bachelors        8025\n",
      " Masters          2657\n",
      " Assoc-voc        2061\n",
      " 11th             1812\n",
      " Assoc-acdm       1601\n",
      " 10th             1389\n",
      " 7th-8th           955\n",
      " Prof-school       834\n",
      " 9th               756\n",
      " 12th              657\n",
      " Doctorate         594\n",
      " 5th-6th           509\n",
      " 1st-4th           247\n",
      " Preschool          83\n",
      "Name: education, dtype: int64\n",
      "__________ Uniqe values in education __________\n",
      "[' Bachelors' ' HS-grad' ' 11th' ' Masters' ' 9th' ' Some-college'\n",
      " ' Assoc-acdm' ' Assoc-voc' ' 7th-8th' ' Doctorate' ' Prof-school'\n",
      " ' 5th-6th' ' 10th' ' 1st-4th' ' Preschool' ' 12th']\n",
      "Total Unique Count: 16\n",
      "__________ marital-status __________\n",
      " Married-civ-spouse       22379\n",
      " Never-married            16117\n",
      " Divorced                  6633\n",
      " Separated                 1530\n",
      " Widowed                   1518\n",
      " Married-spouse-absent      628\n",
      " Married-AF-spouse           37\n",
      "Name: marital-status, dtype: int64\n",
      "__________ Uniqe values in marital-status __________\n",
      "[' Never-married' ' Married-civ-spouse' ' Divorced'\n",
      " ' Married-spouse-absent' ' Separated' ' Married-AF-spouse' ' Widowed']\n",
      "Total Unique Count: 7\n",
      "__________ occupation __________\n",
      " Prof-specialty       6172\n",
      " Craft-repair         6112\n",
      " Exec-managerial      6086\n",
      " Adm-clerical         5611\n",
      " Sales                5504\n",
      " Other-service        4923\n",
      " Machine-op-inspct    3022\n",
      " ?                    2809\n",
      " Transport-moving     2355\n",
      " Handlers-cleaners    2072\n",
      " Farming-fishing      1490\n",
      " Tech-support         1446\n",
      " Protective-serv       983\n",
      " Priv-house-serv       242\n",
      " Armed-Forces           15\n",
      "Name: occupation, dtype: int64\n",
      "__________ Uniqe values in occupation __________\n",
      "[' Adm-clerical' ' Exec-managerial' ' Handlers-cleaners' ' Prof-specialty'\n",
      " ' Other-service' ' Sales' ' Craft-repair' ' Transport-moving'\n",
      " ' Farming-fishing' ' Machine-op-inspct' ' Tech-support' ' ?'\n",
      " ' Protective-serv' ' Armed-Forces' ' Priv-house-serv']\n",
      "Total Unique Count: 15\n",
      "__________ relationship __________\n",
      " Husband           19716\n",
      " Not-in-family     12583\n",
      " Own-child          7581\n",
      " Unmarried          5125\n",
      " Wife               2331\n",
      " Other-relative     1506\n",
      "Name: relationship, dtype: int64\n",
      "__________ Uniqe values in relationship __________\n",
      "[' Not-in-family' ' Husband' ' Wife' ' Own-child' ' Unmarried'\n",
      " ' Other-relative']\n",
      "Total Unique Count: 6\n",
      "__________ race __________\n",
      " White                 41762\n",
      " Black                  4685\n",
      " Asian-Pac-Islander     1519\n",
      " Amer-Indian-Eskimo      470\n",
      " Other                   406\n",
      "Name: race, dtype: int64\n",
      "__________ Uniqe values in race __________\n",
      "[' White' ' Black' ' Asian-Pac-Islander' ' Amer-Indian-Eskimo' ' Other']\n",
      "Total Unique Count: 5\n",
      "__________ sex __________\n",
      " Male      32650\n",
      " Female    16192\n",
      "Name: sex, dtype: int64\n",
      "__________ Uniqe values in sex __________\n",
      "[' Male' ' Female']\n",
      "Total Unique Count: 2\n",
      "__________ native-country __________\n",
      " United-States                 43832\n",
      " Mexico                          951\n",
      " ?                               857\n",
      " Philippines                     295\n",
      " Germany                         206\n",
      " Puerto-Rico                     184\n",
      " Canada                          182\n",
      " El-Salvador                     155\n",
      " India                           151\n",
      " Cuba                            138\n",
      " England                         127\n",
      " China                           122\n",
      " South                           115\n",
      " Jamaica                         106\n",
      " Italy                           105\n",
      " Dominican-Republic              103\n",
      " Japan                            92\n",
      " Guatemala                        88\n",
      " Poland                           87\n",
      " Vietnam                          86\n",
      " Columbia                         85\n",
      " Haiti                            75\n",
      " Portugal                         67\n",
      " Taiwan                           65\n",
      " Iran                             59\n",
      " Nicaragua                        49\n",
      " Greece                           49\n",
      " Peru                             46\n",
      " Ecuador                          45\n",
      " France                           38\n",
      " Ireland                          37\n",
      " Thailand                         30\n",
      " Hong                             30\n",
      " Cambodia                         28\n",
      " Trinadad&Tobago                  27\n",
      " Outlying-US(Guam-USVI-etc)       23\n",
      " Yugoslavia                       23\n",
      " Laos                             23\n",
      " Scotland                         21\n",
      " Honduras                         20\n",
      " Hungary                          19\n",
      " Holand-Netherlands                1\n",
      "Name: native-country, dtype: int64\n",
      "__________ Uniqe values in native-country __________\n",
      "[' United-States' ' Cuba' ' Jamaica' ' India' ' ?' ' Mexico' ' South'\n",
      " ' Puerto-Rico' ' Honduras' ' England' ' Canada' ' Germany' ' Iran'\n",
      " ' Philippines' ' Italy' ' Poland' ' Columbia' ' Cambodia' ' Thailand'\n",
      " ' Ecuador' ' Laos' ' Taiwan' ' Haiti' ' Portugal' ' Dominican-Republic'\n",
      " ' El-Salvador' ' France' ' Guatemala' ' China' ' Japan' ' Yugoslavia'\n",
      " ' Peru' ' Outlying-US(Guam-USVI-etc)' ' Scotland' ' Trinadad&Tobago'\n",
      " ' Greece' ' Nicaragua' ' Vietnam' ' Hong' ' Ireland' ' Hungary'\n",
      " ' Holand-Netherlands']\n",
      "Total Unique Count: 42\n",
      "__________ wage_class __________\n",
      " <=50K     24720\n",
      " <=50K.    12435\n",
      " >50K       7841\n",
      " >50K.      3846\n",
      "Name: wage_class, dtype: int64\n",
      "__________ Uniqe values in wage_class __________\n",
      "[' <=50K' ' >50K' ' <=50K.' ' >50K.']\n",
      "Total Unique Count: 4\n",
      "__________ mark __________\n",
      "train_set    32561\n",
      "test_set     16281\n",
      "Name: mark, dtype: int64\n",
      "__________ Uniqe values in mark __________\n",
      "['train_set' 'test_set']\n",
      "Total Unique Count: 2\n"
     ]
    }
   ],
   "source": [
    "#checking differnt types of unique values in each `object` type columns\n",
    "\n",
    "for col_item in obj_cols:\n",
    "    print('_'*10,col_item, '_'*10)\n",
    "    print(df1[col_item].value_counts())\n",
    "    print('_'*10,'Uniqe values in', col_item, '_'*10)\n",
    "    print(df1[col_item].unique())\n",
    "    print(\"Total Unique Count:\",df1[col_item].value_counts().count())"
   ]
  },
  {
   "cell_type": "markdown",
   "metadata": {},
   "source": [
    "### Observation:\n",
    "We can now clearly identify the diff. types, their count and defficiency in the features"
   ]
  },
  {
   "cell_type": "code",
   "execution_count": 9,
   "metadata": {},
   "outputs": [
    {
     "data": {
      "text/plain": [
       "array([' <=50K', ' >50K', ' <=50K.', ' >50K.'], dtype=object)"
      ]
     },
     "execution_count": 9,
     "metadata": {},
     "output_type": "execute_result"
    }
   ],
   "source": [
    "#clean wage_class first remove '.' make it binary\n",
    "#use regular expression to remove '.'\n",
    "\n",
    "df1['wage_class'].unique()"
   ]
  },
  {
   "cell_type": "code",
   "execution_count": 10,
   "metadata": {},
   "outputs": [
    {
     "data": {
      "text/plain": [
       "array([' <=50K', ' >50K'], dtype=object)"
      ]
     },
     "execution_count": 10,
     "metadata": {},
     "output_type": "execute_result"
    }
   ],
   "source": [
    "df1['wage_class'] = [re.sub(r\"\\.\",'', x) for x in df1['wage_class']]\n",
    "df1['wage_class'].unique()"
   ]
  },
  {
   "cell_type": "code",
   "execution_count": 11,
   "metadata": {},
   "outputs": [
    {
     "data": {
      "text/plain": [
       " <=50K    37155\n",
       " >50K     11687\n",
       "Name: wage_class, dtype: int64"
      ]
     },
     "execution_count": 11,
     "metadata": {},
     "output_type": "execute_result"
    }
   ],
   "source": [
    "#checking value counts of two categories\n",
    "df1['wage_class'].value_counts()"
   ]
  },
  {
   "cell_type": "code",
   "execution_count": 12,
   "metadata": {},
   "outputs": [],
   "source": [
    "# as here is only two category(binary target) so we can apply LabelEncoder to convert it to numeric\n",
    "le = LabelEncoder()\n",
    "y=le.fit_transform(df1['wage_class'])"
   ]
  },
  {
   "cell_type": "code",
   "execution_count": 13,
   "metadata": {},
   "outputs": [
    {
     "data": {
      "text/html": [
       "<div>\n",
       "<style scoped>\n",
       "    .dataframe tbody tr th:only-of-type {\n",
       "        vertical-align: middle;\n",
       "    }\n",
       "\n",
       "    .dataframe tbody tr th {\n",
       "        vertical-align: top;\n",
       "    }\n",
       "\n",
       "    .dataframe thead th {\n",
       "        text-align: right;\n",
       "    }\n",
       "</style>\n",
       "<table border=\"1\" class=\"dataframe\">\n",
       "  <thead>\n",
       "    <tr style=\"text-align: right;\">\n",
       "      <th></th>\n",
       "      <th>workclass_ ?</th>\n",
       "      <th>workclass_ Federal-gov</th>\n",
       "      <th>workclass_ Local-gov</th>\n",
       "      <th>workclass_ Never-worked</th>\n",
       "      <th>workclass_ Private</th>\n",
       "      <th>workclass_ Self-emp-inc</th>\n",
       "      <th>workclass_ Self-emp-not-inc</th>\n",
       "      <th>workclass_ State-gov</th>\n",
       "      <th>workclass_ Without-pay</th>\n",
       "      <th>education_ 10th</th>\n",
       "      <th>...</th>\n",
       "      <th>native-country_ Portugal</th>\n",
       "      <th>native-country_ Puerto-Rico</th>\n",
       "      <th>native-country_ Scotland</th>\n",
       "      <th>native-country_ South</th>\n",
       "      <th>native-country_ Taiwan</th>\n",
       "      <th>native-country_ Thailand</th>\n",
       "      <th>native-country_ Trinadad&amp;Tobago</th>\n",
       "      <th>native-country_ United-States</th>\n",
       "      <th>native-country_ Vietnam</th>\n",
       "      <th>native-country_ Yugoslavia</th>\n",
       "    </tr>\n",
       "  </thead>\n",
       "  <tbody>\n",
       "    <tr>\n",
       "      <th>0</th>\n",
       "      <td>0</td>\n",
       "      <td>0</td>\n",
       "      <td>0</td>\n",
       "      <td>0</td>\n",
       "      <td>0</td>\n",
       "      <td>0</td>\n",
       "      <td>0</td>\n",
       "      <td>1</td>\n",
       "      <td>0</td>\n",
       "      <td>0</td>\n",
       "      <td>...</td>\n",
       "      <td>0</td>\n",
       "      <td>0</td>\n",
       "      <td>0</td>\n",
       "      <td>0</td>\n",
       "      <td>0</td>\n",
       "      <td>0</td>\n",
       "      <td>0</td>\n",
       "      <td>1</td>\n",
       "      <td>0</td>\n",
       "      <td>0</td>\n",
       "    </tr>\n",
       "    <tr>\n",
       "      <th>1</th>\n",
       "      <td>0</td>\n",
       "      <td>0</td>\n",
       "      <td>0</td>\n",
       "      <td>0</td>\n",
       "      <td>0</td>\n",
       "      <td>0</td>\n",
       "      <td>1</td>\n",
       "      <td>0</td>\n",
       "      <td>0</td>\n",
       "      <td>0</td>\n",
       "      <td>...</td>\n",
       "      <td>0</td>\n",
       "      <td>0</td>\n",
       "      <td>0</td>\n",
       "      <td>0</td>\n",
       "      <td>0</td>\n",
       "      <td>0</td>\n",
       "      <td>0</td>\n",
       "      <td>1</td>\n",
       "      <td>0</td>\n",
       "      <td>0</td>\n",
       "    </tr>\n",
       "    <tr>\n",
       "      <th>2</th>\n",
       "      <td>0</td>\n",
       "      <td>0</td>\n",
       "      <td>0</td>\n",
       "      <td>0</td>\n",
       "      <td>1</td>\n",
       "      <td>0</td>\n",
       "      <td>0</td>\n",
       "      <td>0</td>\n",
       "      <td>0</td>\n",
       "      <td>0</td>\n",
       "      <td>...</td>\n",
       "      <td>0</td>\n",
       "      <td>0</td>\n",
       "      <td>0</td>\n",
       "      <td>0</td>\n",
       "      <td>0</td>\n",
       "      <td>0</td>\n",
       "      <td>0</td>\n",
       "      <td>1</td>\n",
       "      <td>0</td>\n",
       "      <td>0</td>\n",
       "    </tr>\n",
       "    <tr>\n",
       "      <th>3</th>\n",
       "      <td>0</td>\n",
       "      <td>0</td>\n",
       "      <td>0</td>\n",
       "      <td>0</td>\n",
       "      <td>1</td>\n",
       "      <td>0</td>\n",
       "      <td>0</td>\n",
       "      <td>0</td>\n",
       "      <td>0</td>\n",
       "      <td>0</td>\n",
       "      <td>...</td>\n",
       "      <td>0</td>\n",
       "      <td>0</td>\n",
       "      <td>0</td>\n",
       "      <td>0</td>\n",
       "      <td>0</td>\n",
       "      <td>0</td>\n",
       "      <td>0</td>\n",
       "      <td>1</td>\n",
       "      <td>0</td>\n",
       "      <td>0</td>\n",
       "    </tr>\n",
       "    <tr>\n",
       "      <th>4</th>\n",
       "      <td>0</td>\n",
       "      <td>0</td>\n",
       "      <td>0</td>\n",
       "      <td>0</td>\n",
       "      <td>1</td>\n",
       "      <td>0</td>\n",
       "      <td>0</td>\n",
       "      <td>0</td>\n",
       "      <td>0</td>\n",
       "      <td>0</td>\n",
       "      <td>...</td>\n",
       "      <td>0</td>\n",
       "      <td>0</td>\n",
       "      <td>0</td>\n",
       "      <td>0</td>\n",
       "      <td>0</td>\n",
       "      <td>0</td>\n",
       "      <td>0</td>\n",
       "      <td>0</td>\n",
       "      <td>0</td>\n",
       "      <td>0</td>\n",
       "    </tr>\n",
       "  </tbody>\n",
       "</table>\n",
       "<p>5 rows × 102 columns</p>\n",
       "</div>"
      ],
      "text/plain": [
       "   workclass_ ?  workclass_ Federal-gov  workclass_ Local-gov  \\\n",
       "0             0                       0                     0   \n",
       "1             0                       0                     0   \n",
       "2             0                       0                     0   \n",
       "3             0                       0                     0   \n",
       "4             0                       0                     0   \n",
       "\n",
       "   workclass_ Never-worked  workclass_ Private  workclass_ Self-emp-inc  \\\n",
       "0                        0                   0                        0   \n",
       "1                        0                   0                        0   \n",
       "2                        0                   1                        0   \n",
       "3                        0                   1                        0   \n",
       "4                        0                   1                        0   \n",
       "\n",
       "   workclass_ Self-emp-not-inc  workclass_ State-gov  workclass_ Without-pay  \\\n",
       "0                            0                     1                       0   \n",
       "1                            1                     0                       0   \n",
       "2                            0                     0                       0   \n",
       "3                            0                     0                       0   \n",
       "4                            0                     0                       0   \n",
       "\n",
       "   education_ 10th             ...              native-country_ Portugal  \\\n",
       "0                0             ...                                     0   \n",
       "1                0             ...                                     0   \n",
       "2                0             ...                                     0   \n",
       "3                0             ...                                     0   \n",
       "4                0             ...                                     0   \n",
       "\n",
       "   native-country_ Puerto-Rico  native-country_ Scotland  \\\n",
       "0                            0                         0   \n",
       "1                            0                         0   \n",
       "2                            0                         0   \n",
       "3                            0                         0   \n",
       "4                            0                         0   \n",
       "\n",
       "   native-country_ South  native-country_ Taiwan  native-country_ Thailand  \\\n",
       "0                      0                       0                         0   \n",
       "1                      0                       0                         0   \n",
       "2                      0                       0                         0   \n",
       "3                      0                       0                         0   \n",
       "4                      0                       0                         0   \n",
       "\n",
       "   native-country_ Trinadad&Tobago  native-country_ United-States  \\\n",
       "0                                0                              1   \n",
       "1                                0                              1   \n",
       "2                                0                              1   \n",
       "3                                0                              1   \n",
       "4                                0                              0   \n",
       "\n",
       "   native-country_ Vietnam  native-country_ Yugoslavia  \n",
       "0                        0                           0  \n",
       "1                        0                           0  \n",
       "2                        0                           0  \n",
       "3                        0                           0  \n",
       "4                        0                           0  \n",
       "\n",
       "[5 rows x 102 columns]"
      ]
     },
     "execution_count": 13,
     "metadata": {},
     "output_type": "execute_result"
    }
   ],
   "source": [
    "#convert rest object columns to the numeric using one hot coding\n",
    "df2=df1.copy()    # copying to retain the original df1\n",
    "df3 = pd.get_dummies(df2[obj_cols[:-2]])\n",
    "df3.head()"
   ]
  },
  {
   "cell_type": "markdown",
   "metadata": {},
   "source": [
    "###### Observation:\n",
    "as we know some columns are created for '?' as there were some values of '?' in some features, remove all those coloumns that generated for ? as have no specific meaning"
   ]
  },
  {
   "cell_type": "code",
   "execution_count": 14,
   "metadata": {},
   "outputs": [],
   "source": [
    "#find '?' columns from the all column names in df3\n",
    "for name in df3.columns:\n",
    "    if(re.search(r'\\?', name)):      # searcing name of columns having ? in name by regular expression\n",
    "        df3.drop(name, axis=1, inplace=True)"
   ]
  },
  {
   "cell_type": "code",
   "execution_count": 15,
   "metadata": {},
   "outputs": [],
   "source": [
    "#df3.head() now partially prepared frame is in df3\n",
    "#add rest of previous (6) integer columns num_cols to the df3\n",
    "#also add y, and mark column from df1 for seperate marking of train and test datasets\n",
    "\n",
    "df4 = df1[num_cols]\n",
    "df4.head()\n",
    "df3 = pd.concat([df4, df3], axis=1)"
   ]
  },
  {
   "cell_type": "code",
   "execution_count": 16,
   "metadata": {},
   "outputs": [],
   "source": [
    "#adding mark column\n",
    "df3 = pd.concat([df1['mark'], df3], axis=1)"
   ]
  },
  {
   "cell_type": "code",
   "execution_count": 17,
   "metadata": {},
   "outputs": [
    {
     "data": {
      "text/html": [
       "<div>\n",
       "<style scoped>\n",
       "    .dataframe tbody tr th:only-of-type {\n",
       "        vertical-align: middle;\n",
       "    }\n",
       "\n",
       "    .dataframe tbody tr th {\n",
       "        vertical-align: top;\n",
       "    }\n",
       "\n",
       "    .dataframe thead th {\n",
       "        text-align: right;\n",
       "    }\n",
       "</style>\n",
       "<table border=\"1\" class=\"dataframe\">\n",
       "  <thead>\n",
       "    <tr style=\"text-align: right;\">\n",
       "      <th></th>\n",
       "      <th>mark</th>\n",
       "      <th>age</th>\n",
       "      <th>fnlwgt</th>\n",
       "      <th>education-num</th>\n",
       "      <th>capital-gain</th>\n",
       "      <th>capital-loss</th>\n",
       "      <th>hours-per-week</th>\n",
       "      <th>workclass_ Federal-gov</th>\n",
       "      <th>workclass_ Local-gov</th>\n",
       "      <th>workclass_ Never-worked</th>\n",
       "      <th>...</th>\n",
       "      <th>native-country_ Puerto-Rico</th>\n",
       "      <th>native-country_ Scotland</th>\n",
       "      <th>native-country_ South</th>\n",
       "      <th>native-country_ Taiwan</th>\n",
       "      <th>native-country_ Thailand</th>\n",
       "      <th>native-country_ Trinadad&amp;Tobago</th>\n",
       "      <th>native-country_ United-States</th>\n",
       "      <th>native-country_ Vietnam</th>\n",
       "      <th>native-country_ Yugoslavia</th>\n",
       "      <th>y</th>\n",
       "    </tr>\n",
       "  </thead>\n",
       "  <tbody>\n",
       "    <tr>\n",
       "      <th>0</th>\n",
       "      <td>train_set</td>\n",
       "      <td>39</td>\n",
       "      <td>77516</td>\n",
       "      <td>13</td>\n",
       "      <td>2174</td>\n",
       "      <td>0</td>\n",
       "      <td>40</td>\n",
       "      <td>0</td>\n",
       "      <td>0</td>\n",
       "      <td>0</td>\n",
       "      <td>...</td>\n",
       "      <td>0</td>\n",
       "      <td>0</td>\n",
       "      <td>0</td>\n",
       "      <td>0</td>\n",
       "      <td>0</td>\n",
       "      <td>0</td>\n",
       "      <td>1</td>\n",
       "      <td>0</td>\n",
       "      <td>0</td>\n",
       "      <td>0</td>\n",
       "    </tr>\n",
       "    <tr>\n",
       "      <th>1</th>\n",
       "      <td>train_set</td>\n",
       "      <td>50</td>\n",
       "      <td>83311</td>\n",
       "      <td>13</td>\n",
       "      <td>0</td>\n",
       "      <td>0</td>\n",
       "      <td>13</td>\n",
       "      <td>0</td>\n",
       "      <td>0</td>\n",
       "      <td>0</td>\n",
       "      <td>...</td>\n",
       "      <td>0</td>\n",
       "      <td>0</td>\n",
       "      <td>0</td>\n",
       "      <td>0</td>\n",
       "      <td>0</td>\n",
       "      <td>0</td>\n",
       "      <td>1</td>\n",
       "      <td>0</td>\n",
       "      <td>0</td>\n",
       "      <td>0</td>\n",
       "    </tr>\n",
       "    <tr>\n",
       "      <th>2</th>\n",
       "      <td>train_set</td>\n",
       "      <td>38</td>\n",
       "      <td>215646</td>\n",
       "      <td>9</td>\n",
       "      <td>0</td>\n",
       "      <td>0</td>\n",
       "      <td>40</td>\n",
       "      <td>0</td>\n",
       "      <td>0</td>\n",
       "      <td>0</td>\n",
       "      <td>...</td>\n",
       "      <td>0</td>\n",
       "      <td>0</td>\n",
       "      <td>0</td>\n",
       "      <td>0</td>\n",
       "      <td>0</td>\n",
       "      <td>0</td>\n",
       "      <td>1</td>\n",
       "      <td>0</td>\n",
       "      <td>0</td>\n",
       "      <td>0</td>\n",
       "    </tr>\n",
       "    <tr>\n",
       "      <th>3</th>\n",
       "      <td>train_set</td>\n",
       "      <td>53</td>\n",
       "      <td>234721</td>\n",
       "      <td>7</td>\n",
       "      <td>0</td>\n",
       "      <td>0</td>\n",
       "      <td>40</td>\n",
       "      <td>0</td>\n",
       "      <td>0</td>\n",
       "      <td>0</td>\n",
       "      <td>...</td>\n",
       "      <td>0</td>\n",
       "      <td>0</td>\n",
       "      <td>0</td>\n",
       "      <td>0</td>\n",
       "      <td>0</td>\n",
       "      <td>0</td>\n",
       "      <td>1</td>\n",
       "      <td>0</td>\n",
       "      <td>0</td>\n",
       "      <td>0</td>\n",
       "    </tr>\n",
       "    <tr>\n",
       "      <th>4</th>\n",
       "      <td>train_set</td>\n",
       "      <td>28</td>\n",
       "      <td>338409</td>\n",
       "      <td>13</td>\n",
       "      <td>0</td>\n",
       "      <td>0</td>\n",
       "      <td>40</td>\n",
       "      <td>0</td>\n",
       "      <td>0</td>\n",
       "      <td>0</td>\n",
       "      <td>...</td>\n",
       "      <td>0</td>\n",
       "      <td>0</td>\n",
       "      <td>0</td>\n",
       "      <td>0</td>\n",
       "      <td>0</td>\n",
       "      <td>0</td>\n",
       "      <td>0</td>\n",
       "      <td>0</td>\n",
       "      <td>0</td>\n",
       "      <td>0</td>\n",
       "    </tr>\n",
       "  </tbody>\n",
       "</table>\n",
       "<p>5 rows × 107 columns</p>\n",
       "</div>"
      ],
      "text/plain": [
       "        mark  age  fnlwgt  education-num  capital-gain  capital-loss  \\\n",
       "0  train_set   39   77516             13          2174             0   \n",
       "1  train_set   50   83311             13             0             0   \n",
       "2  train_set   38  215646              9             0             0   \n",
       "3  train_set   53  234721              7             0             0   \n",
       "4  train_set   28  338409             13             0             0   \n",
       "\n",
       "   hours-per-week  workclass_ Federal-gov  workclass_ Local-gov  \\\n",
       "0              40                       0                     0   \n",
       "1              13                       0                     0   \n",
       "2              40                       0                     0   \n",
       "3              40                       0                     0   \n",
       "4              40                       0                     0   \n",
       "\n",
       "   workclass_ Never-worked ...  native-country_ Puerto-Rico  \\\n",
       "0                        0 ...                            0   \n",
       "1                        0 ...                            0   \n",
       "2                        0 ...                            0   \n",
       "3                        0 ...                            0   \n",
       "4                        0 ...                            0   \n",
       "\n",
       "   native-country_ Scotland  native-country_ South  native-country_ Taiwan  \\\n",
       "0                         0                      0                       0   \n",
       "1                         0                      0                       0   \n",
       "2                         0                      0                       0   \n",
       "3                         0                      0                       0   \n",
       "4                         0                      0                       0   \n",
       "\n",
       "   native-country_ Thailand  native-country_ Trinadad&Tobago  \\\n",
       "0                         0                                0   \n",
       "1                         0                                0   \n",
       "2                         0                                0   \n",
       "3                         0                                0   \n",
       "4                         0                                0   \n",
       "\n",
       "   native-country_ United-States  native-country_ Vietnam  \\\n",
       "0                              1                        0   \n",
       "1                              1                        0   \n",
       "2                              1                        0   \n",
       "3                              1                        0   \n",
       "4                              0                        0   \n",
       "\n",
       "   native-country_ Yugoslavia  y  \n",
       "0                           0  0  \n",
       "1                           0  0  \n",
       "2                           0  0  \n",
       "3                           0  0  \n",
       "4                           0  0  \n",
       "\n",
       "[5 rows x 107 columns]"
      ]
     },
     "execution_count": 17,
     "metadata": {},
     "output_type": "execute_result"
    }
   ],
   "source": [
    "#adding target to make df3 a fully prepared frame\n",
    "df3['y']=y\n",
    "df3.head()\n"
   ]
  },
  {
   "cell_type": "markdown",
   "metadata": {},
   "source": [
    "**Observation:** Now df3 is fully prepared frame with all numerical value without malicious data, so make train and test frame based on 'mark' column"
   ]
  },
  {
   "cell_type": "code",
   "execution_count": 18,
   "metadata": {},
   "outputs": [],
   "source": [
    "#seperating both based on 'mark'\n",
    "df_train = df3[df3['mark']=='train_set']\n",
    "df_test = df3[df3['mark']=='test_set']\n"
   ]
  },
  {
   "cell_type": "code",
   "execution_count": 19,
   "metadata": {},
   "outputs": [
    {
     "data": {
      "text/plain": [
       "((32561, 107), (16281, 107))"
      ]
     },
     "execution_count": 19,
     "metadata": {},
     "output_type": "execute_result"
    }
   ],
   "source": [
    "#verifying sahpe of both\n",
    "df_train.shape,df_test.shape"
   ]
  },
  {
   "cell_type": "code",
   "execution_count": 20,
   "metadata": {},
   "outputs": [
    {
     "data": {
      "text/plain": [
       "((32561,), (16281,))"
      ]
     },
     "execution_count": 20,
     "metadata": {},
     "output_type": "execute_result"
    }
   ],
   "source": [
    "#extracting traget to seprate\n",
    "y_train=df_train['y']\n",
    "y_test=df_test['y']\n",
    "y_train.shape, y_test.shape"
   ]
  },
  {
   "cell_type": "code",
   "execution_count": 21,
   "metadata": {},
   "outputs": [
    {
     "name": "stderr",
     "output_type": "stream",
     "text": [
      "C:\\ProgramData\\Anaconda3\\lib\\site-packages\\pandas\\core\\frame.py:3697: SettingWithCopyWarning: \n",
      "A value is trying to be set on a copy of a slice from a DataFrame\n",
      "\n",
      "See the caveats in the documentation: http://pandas.pydata.org/pandas-docs/stable/indexing.html#indexing-view-versus-copy\n",
      "  errors=errors)\n"
     ]
    }
   ],
   "source": [
    "#droping y and mark from train and test frame\n",
    "df_train.drop(['mark','y'], axis=1, inplace=True)\n",
    "df_test.drop(['mark','y'], axis=1, inplace=True)"
   ]
  },
  {
   "cell_type": "code",
   "execution_count": 22,
   "metadata": {},
   "outputs": [
    {
     "data": {
      "text/plain": [
       "((32561, 105), (16281, 105), (32561,), (16281,))"
      ]
     },
     "execution_count": 22,
     "metadata": {},
     "output_type": "execute_result"
    }
   ],
   "source": [
    "x_train= df_train.copy()\n",
    "x_test = df_test.copy()\n",
    "x_train.shape,x_test.shape, y_train.shape, y_test.shape   # the final dfs"
   ]
  },
  {
   "cell_type": "markdown",
   "metadata": {},
   "source": [
    "# Models Training"
   ]
  },
  {
   "cell_type": "code",
   "execution_count": 23,
   "metadata": {},
   "outputs": [
    {
     "data": {
      "text/plain": [
       "[('LogisticRegressionModel',\n",
       "  LogisticRegression(C=1.0, class_weight=None, dual=False, fit_intercept=True,\n",
       "            intercept_scaling=1, max_iter=100, multi_class='ovr', n_jobs=1,\n",
       "            penalty='l2', random_state=None, solver='liblinear', tol=0.0001,\n",
       "            verbose=0, warm_start=False)),\n",
       " ('DecisionTreeClassifierModel',\n",
       "  DecisionTreeClassifier(class_weight=None, criterion='gini', max_depth=None,\n",
       "              max_features=None, max_leaf_nodes=None,\n",
       "              min_impurity_decrease=0.0, min_impurity_split=None,\n",
       "              min_samples_leaf=1, min_samples_split=2,\n",
       "              min_weight_fraction_leaf=0.0, presort=False, random_state=None,\n",
       "              splitter='best')),\n",
       " ('RandomForestClassifierModel',\n",
       "  RandomForestClassifier(bootstrap=True, class_weight=None, criterion='gini',\n",
       "              max_depth=None, max_features='auto', max_leaf_nodes=None,\n",
       "              min_impurity_decrease=0.0, min_impurity_split=None,\n",
       "              min_samples_leaf=1, min_samples_split=2,\n",
       "              min_weight_fraction_leaf=0.0, n_estimators=10, n_jobs=1,\n",
       "              oob_score=False, random_state=None, verbose=0,\n",
       "              warm_start=False)),\n",
       " ('GradientBoostingClassifierModel',\n",
       "  GradientBoostingClassifier(criterion='friedman_mse', init=None,\n",
       "                learning_rate=0.1, loss='deviance', max_depth=3,\n",
       "                max_features=None, max_leaf_nodes=None,\n",
       "                min_impurity_decrease=0.0, min_impurity_split=None,\n",
       "                min_samples_leaf=1, min_samples_split=2,\n",
       "                min_weight_fraction_leaf=0.0, n_estimators=100,\n",
       "                presort='auto', random_state=None, subsample=1.0, verbose=0,\n",
       "                warm_start=False)),\n",
       " ('AdaBoostClassifier',\n",
       "  AdaBoostClassifier(algorithm='SAMME.R', base_estimator=None,\n",
       "            learning_rate=1.0, n_estimators=50, random_state=None)),\n",
       " ('XGBClassifier',\n",
       "  XGBClassifier(base_score=0.5, booster='gbtree', colsample_bylevel=1,\n",
       "         colsample_bynode=1, colsample_bytree=1, gamma=0, learning_rate=0.1,\n",
       "         max_delta_step=0, max_depth=3, min_child_weight=1, missing=None,\n",
       "         n_estimators=100, n_jobs=1, nthread=None,\n",
       "         objective='binary:logistic', random_state=0, reg_alpha=0,\n",
       "         reg_lambda=1, scale_pos_weight=1, seed=None, silent=None,\n",
       "         subsample=1, verbosity=1)),\n",
       " ('BaggingClassifier', BaggingClassifier(base_estimator=None, bootstrap=True,\n",
       "           bootstrap_features=False, max_features=1.0, max_samples=1.0,\n",
       "           n_estimators=20, n_jobs=1, oob_score=False, random_state=None,\n",
       "           verbose=0, warm_start=False))]"
      ]
     },
     "execution_count": 23,
     "metadata": {},
     "output_type": "execute_result"
    }
   ],
   "source": [
    "#list of estimators\n",
    "estimators = []\n",
    "\n",
    "#creating different model and appending them to estimators list\n",
    "#1.\n",
    "model_lr= LogisticRegression()\n",
    "estimators.append(('LogisticRegressionModel', model_lr))\n",
    "\n",
    "#2.\n",
    "model_DT = DecisionTreeClassifier()\n",
    "estimators.append(('DecisionTreeClassifierModel',model_DT))\n",
    "\n",
    "\n",
    "#4.\n",
    "model_rf=RandomForestClassifier()\n",
    "estimators.append(('RandomForestClassifierModel',model_rf))\n",
    "\n",
    "#5.\n",
    "model_gb = GradientBoostingClassifier()\n",
    "estimators.append(('GradientBoostingClassifierModel', model_gb))\n",
    "\n",
    "\n",
    "#6.\n",
    "model_ada = AdaBoostClassifier()\n",
    "estimators.append(('AdaBoostClassifier',model_ada))\n",
    "\n",
    "\n",
    "#7.\n",
    "model_xgb = XGBClassifier()   #thr sklearn way\n",
    "estimators.append(('XGBClassifier',model_xgb))\n",
    "\n",
    "#8.\n",
    "\n",
    "model_bag = BaggingClassifier(n_estimators=20)\n",
    "estimators.append(('BaggingClassifier', model_bag))\n",
    "\n",
    "\n",
    "\n",
    "#creating ensemble model\n",
    "\n",
    "ensembleModel=VotingClassifier(estimators)\n",
    "\n",
    "\n",
    "\n",
    "estimators\n"
   ]
  },
  {
   "cell_type": "markdown",
   "metadata": {},
   "source": [
    "## Training and Model Evaluation"
   ]
  },
  {
   "cell_type": "markdown",
   "metadata": {},
   "source": [
    "**1. Logistic Regression Model**"
   ]
  },
  {
   "cell_type": "code",
   "execution_count": 40,
   "metadata": {},
   "outputs": [
    {
     "name": "stdout",
     "output_type": "stream",
     "text": [
      "1. LogisticRegression:\n",
      "[0 0 0 ... 0 1 0]\n",
      "Accuracy: 0.7990909649284442\n",
      "log_loss: 6.939172963446249\n",
      "Precision Score: 0.7026074700493306\n",
      "Recall Score: 0.2592303692147686\n",
      "Average Precision-Recall Score: 0.35712644514843417\n",
      "f1 Score: 0.3787274453941121\n",
      "roc_auc_score: 0.6126469497863147\n"
     ]
    }
   ],
   "source": [
    "#1.\n",
    "model_lr.fit(x_train, y_train)\n",
    "pred1=model_lr.predict(x_test)\n",
    "\n",
    "print(\"1. LogisticRegression:\")\n",
    "print(pred1)\n",
    "print(\"Accuracy:\",accuracy_score(y_test, pred1))\n",
    "print('log_loss:',log_loss(y_test, pred1))\n",
    "print('Precision Score:',precision_score(y_test, pred1)) #the probability that all the predicted were relevant is 0.70(precision).\n",
    "print('Recall Score:',recall_score(y_test, pred1)) #This implies that the probability of logistic's algorithm to retrieve all the relevant predict was 0.25 (recall) \n",
    "print('Average Precision-Recall Score:',average_precision_score(y_test, pred1))\n",
    "print('f1 Score:',f1_score(y_test, pred1))\n",
    "print('roc_auc_score:',roc_auc_score(y_test, pred1))"
   ]
  },
  {
   "cell_type": "markdown",
   "metadata": {},
   "source": [
    "**2. Decision Tree**\n"
   ]
  },
  {
   "cell_type": "code",
   "execution_count": 41,
   "metadata": {},
   "outputs": [
    {
     "name": "stdout",
     "output_type": "stream",
     "text": [
      "2. Decision Tree:\n",
      "[0 0 1 ... 1 0 1]\n",
      "Accuracy: 0.8132178613107303\n",
      "log_loss: 6.451302695936222\n",
      "Precision Score: 0.6030202201177374\n",
      "Recall Score: 0.6125845033801353\n",
      "Average Precision-Recall Score: 0.4609185621107704\n",
      "f1 Score: 0.6077647362311364\n",
      "roc_auc_score: 0.743927957359549\n"
     ]
    }
   ],
   "source": [
    "model_DT.fit(x_train, y_train)\n",
    "pred1=model_DT.predict(x_test)\n",
    "\n",
    "print(\"2. Decision Tree:\")\n",
    "print(pred1)\n",
    "print(\"Accuracy:\",accuracy_score(y_test, pred1))\n",
    "print('log_loss:',log_loss(y_test, pred1))\n",
    "print('Precision Score:',precision_score(y_test, pred1)) \n",
    "print('Recall Score:',recall_score(y_test, pred1))  \n",
    "print('Average Precision-Recall Score:',average_precision_score(y_test, pred1))\n",
    "print('f1 Score:',f1_score(y_test, pred1))\n",
    "print('roc_auc_score:',roc_auc_score(y_test, pred1))"
   ]
  },
  {
   "cell_type": "markdown",
   "metadata": {},
   "source": [
    "**3. svmModel**"
   ]
  },
  {
   "cell_type": "code",
   "execution_count": null,
   "metadata": {},
   "outputs": [],
   "source": []
  },
  {
   "cell_type": "markdown",
   "metadata": {},
   "source": [
    "**4. RandomForestClassifierModel**"
   ]
  },
  {
   "cell_type": "code",
   "execution_count": 42,
   "metadata": {},
   "outputs": [
    {
     "name": "stdout",
     "output_type": "stream",
     "text": [
      "4. RandomForestClassifierModel:\n",
      "[0 0 0 ... 1 0 1]\n",
      "Accuracy: 0.8469995700509797\n",
      "log_loss: 5.284489629354789\n",
      "Precision Score: 0.7210440456769984\n",
      "Recall Score: 0.5746229849193968\n",
      "Average Precision-Recall Score: 0.5148137099653619\n",
      "f1 Score: 0.6395601215453626\n",
      "roc_auc_score: 0.7529327228577684\n"
     ]
    }
   ],
   "source": [
    "model_rf.fit(x_train, y_train)\n",
    "pred1=model_rf.predict(x_test)\n",
    "\n",
    "print(\"4. RandomForestClassifierModel:\")\n",
    "print(pred1)\n",
    "print(\"Accuracy:\",accuracy_score(y_test, pred1))\n",
    "print('log_loss:',log_loss(y_test, pred1))\n",
    "print('Precision Score:',precision_score(y_test, pred1)) \n",
    "print('Recall Score:',recall_score(y_test, pred1))  \n",
    "print('Average Precision-Recall Score:',average_precision_score(y_test, pred1))\n",
    "print('f1 Score:',f1_score(y_test, pred1))\n",
    "print('roc_auc_score:',roc_auc_score(y_test, pred1))"
   ]
  },
  {
   "cell_type": "markdown",
   "metadata": {},
   "source": [
    "**5.GradientBoostingClassifierModel**"
   ]
  },
  {
   "cell_type": "code",
   "execution_count": 43,
   "metadata": {},
   "outputs": [
    {
     "name": "stdout",
     "output_type": "stream",
     "text": [
      "5. GradientBoostingClassifierModel:\n",
      "[0 0 0 ... 1 0 1]\n",
      "Accuracy: 0.8711381364781033\n",
      "log_loss: 4.45076011538627\n",
      "Precision Score: 0.7982935153583618\n",
      "Recall Score: 0.608164326573063\n",
      "Average Precision-Recall Score: 0.5780555201238444\n",
      "f1 Score: 0.6903778040141677\n",
      "roc_auc_score: 0.7803185927195834\n"
     ]
    }
   ],
   "source": [
    "model_gb.fit(x_train, y_train)\n",
    "pred1=model_gb.predict(x_test)\n",
    "\n",
    "print(\"5. GradientBoostingClassifierModel:\")\n",
    "print(pred1)\n",
    "print(\"Accuracy:\",accuracy_score(y_test, pred1))\n",
    "print('log_loss:',log_loss(y_test, pred1))\n",
    "print('Precision Score:',precision_score(y_test, pred1)) \n",
    "print('Recall Score:',recall_score(y_test, pred1))  \n",
    "print('Average Precision-Recall Score:',average_precision_score(y_test, pred1))\n",
    "print('f1 Score:',f1_score(y_test, pred1))\n",
    "print('roc_auc_score:',roc_auc_score(y_test, pred1))"
   ]
  },
  {
   "cell_type": "markdown",
   "metadata": {},
   "source": [
    "**6.AdaBoostClassifier**"
   ]
  },
  {
   "cell_type": "code",
   "execution_count": 44,
   "metadata": {},
   "outputs": [
    {
     "name": "stdout",
     "output_type": "stream",
     "text": [
      "6. AdaBoostClassifierModel:\n",
      "[0 0 0 ... 1 1 1]\n",
      "Accuracy: 0.8602665683926048\n",
      "log_loss: 4.8262600076666\n",
      "Precision Score: 0.7510386705017578\n",
      "Recall Score: 0.6110244409776391\n",
      "Average Precision-Recall Score: 0.5507892315694041\n",
      "f1 Score: 0.6738351254480287\n",
      "roc_auc_score: 0.7741893415181723\n"
     ]
    }
   ],
   "source": [
    "model_ada.fit(x_train, y_train)\n",
    "pred1=model_ada.predict(x_test)\n",
    "\n",
    "print(\"6. AdaBoostClassifierModel:\")\n",
    "print(pred1)\n",
    "print(\"Accuracy:\",accuracy_score(y_test, pred1))\n",
    "print('log_loss:',log_loss(y_test, pred1))\n",
    "print('Precision Score:',precision_score(y_test, pred1)) \n",
    "print('Recall Score:',recall_score(y_test, pred1))  \n",
    "print('Average Precision-Recall Score:',average_precision_score(y_test, pred1))\n",
    "print('f1 Score:',f1_score(y_test, pred1))\n",
    "print('roc_auc_score:',roc_auc_score(y_test, pred1))"
   ]
  },
  {
   "cell_type": "markdown",
   "metadata": {},
   "source": [
    "**7. XGBClassifier**"
   ]
  },
  {
   "cell_type": "code",
   "execution_count": 45,
   "metadata": {},
   "outputs": [
    {
     "name": "stdout",
     "output_type": "stream",
     "text": [
      "7. XGBClassifierModel in Sklearn way:\n",
      "[0 0 0 ... 1 0 1]\n",
      "Accuracy: 0.8692340765309257\n",
      "log_loss: 4.516523672358214\n",
      "Precision Score: 0.7975736568457539\n",
      "Recall Score: 0.5982839313572543\n",
      "Average Precision-Recall Score: 0.5720713938804507\n",
      "f1 Score: 0.6837022730649235\n",
      "roc_auc_score: 0.775659858722455\n"
     ]
    },
    {
     "name": "stderr",
     "output_type": "stream",
     "text": [
      "C:\\ProgramData\\Anaconda3\\lib\\site-packages\\sklearn\\preprocessing\\label.py:151: DeprecationWarning: The truth value of an empty array is ambiguous. Returning False, but in future this will result in an error. Use `array.size > 0` to check that an array is not empty.\n",
      "  if diff:\n"
     ]
    }
   ],
   "source": [
    "model_xgb.fit(x_train, y_train)\n",
    "pred1=model_xgb.predict(x_test)\n",
    "\n",
    "print(\"7. XGBClassifierModel in Sklearn way:\")\n",
    "print(pred1)\n",
    "print(\"Accuracy:\",accuracy_score(y_test, pred1))\n",
    "print('log_loss:',log_loss(y_test, pred1))\n",
    "print('Precision Score:',precision_score(y_test, pred1)) \n",
    "print('Recall Score:',recall_score(y_test, pred1))  \n",
    "print('Average Precision-Recall Score:',average_precision_score(y_test, pred1))\n",
    "print('f1 Score:',f1_score(y_test, pred1))\n",
    "print('roc_auc_score:',roc_auc_score(y_test, pred1))"
   ]
  },
  {
   "cell_type": "markdown",
   "metadata": {},
   "source": [
    "**8. BaggingClassifier**"
   ]
  },
  {
   "cell_type": "code",
   "execution_count": 46,
   "metadata": {},
   "outputs": [
    {
     "name": "stdout",
     "output_type": "stream",
     "text": [
      "8. BaggingClassifierModel:\n",
      "[0 0 0 ... 1 0 1]\n",
      "Accuracy: 0.8497635280388183\n",
      "log_loss: 5.189026835581691\n",
      "Precision Score: 0.7223634053367217\n",
      "Recall Score: 0.5912636505460218\n",
      "Average Precision-Recall Score: 0.5236614897687404\n",
      "f1 Score: 0.6502716614240778\n",
      "roc_auc_score: 0.7604890830132602\n"
     ]
    }
   ],
   "source": [
    "model_bag.fit(x_train, y_train)\n",
    "pred1=model_bag.predict(x_test)\n",
    "\n",
    "print(\"8. BaggingClassifierModel:\")\n",
    "print(pred1)\n",
    "print(\"Accuracy:\",accuracy_score(y_test, pred1))\n",
    "print('log_loss:',log_loss(y_test, pred1))\n",
    "print('Precision Score:',precision_score(y_test, pred1)) \n",
    "print('Recall Score:',recall_score(y_test, pred1))  \n",
    "print('Average Precision-Recall Score:',average_precision_score(y_test, pred1))\n",
    "print('f1 Score:',f1_score(y_test, pred1))\n",
    "print('roc_auc_score:',roc_auc_score(y_test, pred1))"
   ]
  },
  {
   "cell_type": "code",
   "execution_count": 47,
   "metadata": {},
   "outputs": [
    {
     "name": "stderr",
     "output_type": "stream",
     "text": [
      "C:\\ProgramData\\Anaconda3\\lib\\site-packages\\sklearn\\preprocessing\\label.py:151: DeprecationWarning: The truth value of an empty array is ambiguous. Returning False, but in future this will result in an error. Use `array.size > 0` to check that an array is not empty.\n",
      "  if diff:\n"
     ]
    },
    {
     "name": "stdout",
     "output_type": "stream",
     "text": [
      "\n",
      "6. VotingClassifier:\n",
      "[0 0 0 ... 1 0 1]\n",
      "Accuracy: 0.865118850193477\n",
      "log_loss: 4.6586558534650475\n",
      "Precision Score: 0.8046528803545052\n",
      "Recall Score: 0.5665626625065002\n",
      "Average Precision-Recall Score: 0.5582755664144378\n",
      "f1 Score: 0.6649374427830332\n",
      "roc_auc_score: 0.7620107240960325\n"
     ]
    },
    {
     "name": "stderr",
     "output_type": "stream",
     "text": [
      "C:\\ProgramData\\Anaconda3\\lib\\site-packages\\sklearn\\preprocessing\\label.py:151: DeprecationWarning: The truth value of an empty array is ambiguous. Returning False, but in future this will result in an error. Use `array.size > 0` to check that an array is not empty.\n",
      "  if diff:\n"
     ]
    }
   ],
   "source": [
    "ensembleModel.fit(x_train, y_train)\n",
    "predEn = ensembleModel.predict(x_test)\n",
    "\n",
    "print(\"\\n6. VotingClassifier:\")\n",
    "print(predEn)\n",
    "print(\"Accuracy:\",accuracy_score(y_test, predEn))\n",
    "print('log_loss:',log_loss(y_test, predEn))\n",
    "print('Precision Score:',precision_score(y_test, predEn)) \n",
    "print('Recall Score:',recall_score(y_test, predEn))  \n",
    "print('Average Precision-Recall Score:',average_precision_score(y_test, predEn))\n",
    "print('f1 Score:',f1_score(y_test, predEn))\n",
    "print('roc_auc_score:',roc_auc_score(y_test, predEn))\n"
   ]
  },
  {
   "cell_type": "markdown",
   "metadata": {},
   "source": [
    "**9. XGBoost in XGBoost Way**"
   ]
  },
  {
   "cell_type": "code",
   "execution_count": 32,
   "metadata": {},
   "outputs": [
    {
     "name": "stderr",
     "output_type": "stream",
     "text": [
      "C:\\ProgramData\\Anaconda3\\lib\\site-packages\\xgboost\\core.py:587: FutureWarning: Series.base is deprecated and will be removed in a future version\n",
      "  if getattr(data, 'base', None) is not None and \\\n",
      "C:\\ProgramData\\Anaconda3\\lib\\site-packages\\xgboost\\core.py:588: FutureWarning: Series.base is deprecated and will be removed in a future version\n",
      "  data.base is not None and isinstance(data, np.ndarray) \\\n"
     ]
    },
    {
     "name": "stdout",
     "output_type": "stream",
     "text": [
      "[0]\ttrain-auc:0.906687\ttrain-error:0.141795\ttrain-logloss:0.538598\teval-auc:0.901241\teval-error:0.142927\teval-logloss:0.53952\n",
      "Multiple eval metrics have been passed: 'eval-logloss' will be used for early stopping.\n",
      "\n",
      "Will train until eval-logloss hasn't improved in 15 rounds.\n",
      "[1]\ttrain-auc:0.913177\ttrain-error:0.139308\ttrain-logloss:0.452293\teval-auc:0.907562\teval-error:0.1409\teval-logloss:0.454095\n",
      "[2]\ttrain-auc:0.917377\ttrain-error:0.137158\ttrain-logloss:0.398724\teval-auc:0.911244\teval-error:0.137829\teval-logloss:0.401424\n",
      "[3]\ttrain-auc:0.919355\ttrain-error:0.135131\ttrain-logloss:0.363209\teval-auc:0.912289\teval-error:0.136294\teval-logloss:0.366992\n",
      "[4]\ttrain-auc:0.922097\ttrain-error:0.13381\ttrain-logloss:0.338866\teval-auc:0.913573\teval-error:0.135557\teval-logloss:0.344332\n",
      "[5]\ttrain-auc:0.924021\ttrain-error:0.131415\ttrain-logloss:0.321359\teval-auc:0.915455\teval-error:0.13267\teval-logloss:0.327552\n",
      "[6]\ttrain-auc:0.925438\ttrain-error:0.129971\ttrain-logloss:0.308896\teval-auc:0.916225\teval-error:0.133039\teval-logloss:0.31643\n",
      "[7]\ttrain-auc:0.927504\ttrain-error:0.129142\ttrain-logloss:0.299564\teval-auc:0.917796\teval-error:0.13181\teval-logloss:0.308208\n",
      "[8]\ttrain-auc:0.929128\ttrain-error:0.127975\ttrain-logloss:0.292075\teval-auc:0.918851\teval-error:0.130275\teval-logloss:0.301718\n",
      "[9]\ttrain-auc:0.930798\ttrain-error:0.127023\ttrain-logloss:0.286492\teval-auc:0.920156\teval-error:0.129722\teval-logloss:0.297187\n",
      "[10]\ttrain-auc:0.932427\ttrain-error:0.125918\ttrain-logloss:0.281963\teval-auc:0.920998\teval-error:0.128739\teval-logloss:0.294179\n",
      "[11]\ttrain-auc:0.933361\ttrain-error:0.125334\ttrain-logloss:0.278687\teval-auc:0.921403\teval-error:0.128432\teval-logloss:0.291954\n",
      "[12]\ttrain-auc:0.934578\ttrain-error:0.12475\ttrain-logloss:0.275221\teval-auc:0.921762\teval-error:0.128125\teval-logloss:0.290023\n",
      "[13]\ttrain-auc:0.935661\ttrain-error:0.124628\ttrain-logloss:0.272356\teval-auc:0.922477\teval-error:0.128493\teval-logloss:0.288029\n",
      "[14]\ttrain-auc:0.936662\ttrain-error:0.12214\ttrain-logloss:0.269578\teval-auc:0.922818\teval-error:0.127818\teval-logloss:0.286763\n",
      "[15]\ttrain-auc:0.937876\ttrain-error:0.121065\ttrain-logloss:0.266789\teval-auc:0.922814\teval-error:0.127142\teval-logloss:0.286176\n",
      "[16]\ttrain-auc:0.938407\ttrain-error:0.120512\ttrain-logloss:0.265328\teval-auc:0.923586\teval-error:0.126896\teval-logloss:0.284658\n",
      "[17]\ttrain-auc:0.939653\ttrain-error:0.119007\ttrain-logloss:0.262614\teval-auc:0.924145\teval-error:0.127142\teval-logloss:0.283367\n",
      "[18]\ttrain-auc:0.940663\ttrain-error:0.117656\ttrain-logloss:0.260467\teval-auc:0.924271\teval-error:0.126896\teval-logloss:0.282798\n",
      "[19]\ttrain-auc:0.941224\ttrain-error:0.116581\ttrain-logloss:0.258919\teval-auc:0.924854\teval-error:0.126958\teval-logloss:0.281598\n",
      "[20]\ttrain-auc:0.941984\ttrain-error:0.116305\ttrain-logloss:0.257384\teval-auc:0.924906\teval-error:0.127081\teval-logloss:0.281306\n",
      "[21]\ttrain-auc:0.942889\ttrain-error:0.115721\ttrain-logloss:0.255546\teval-auc:0.925214\teval-error:0.125852\teval-logloss:0.280669\n",
      "[22]\ttrain-auc:0.94363\ttrain-error:0.114585\ttrain-logloss:0.253998\teval-auc:0.925133\teval-error:0.125299\teval-logloss:0.280722\n",
      "[23]\ttrain-auc:0.944293\ttrain-error:0.11437\ttrain-logloss:0.252179\teval-auc:0.926167\teval-error:0.125361\teval-logloss:0.278852\n",
      "[24]\ttrain-auc:0.94513\ttrain-error:0.113571\ttrain-logloss:0.250593\teval-auc:0.925982\teval-error:0.125975\teval-logloss:0.27901\n",
      "[25]\ttrain-auc:0.945442\ttrain-error:0.112957\ttrain-logloss:0.249987\teval-auc:0.925894\teval-error:0.126098\teval-logloss:0.279088\n",
      "[26]\ttrain-auc:0.945835\ttrain-error:0.112497\ttrain-logloss:0.248912\teval-auc:0.92614\teval-error:0.125914\teval-logloss:0.278559\n",
      "[27]\ttrain-auc:0.946207\ttrain-error:0.112312\ttrain-logloss:0.247943\teval-auc:0.926591\teval-error:0.125914\teval-logloss:0.277724\n",
      "[28]\ttrain-auc:0.946664\ttrain-error:0.112282\ttrain-logloss:0.247062\teval-auc:0.926732\teval-error:0.125361\teval-logloss:0.277478\n",
      "[29]\ttrain-auc:0.946837\ttrain-error:0.112097\ttrain-logloss:0.246591\teval-auc:0.926951\teval-error:0.125361\teval-logloss:0.277074\n",
      "[30]\ttrain-auc:0.947726\ttrain-error:0.110654\ttrain-logloss:0.244885\teval-auc:0.926909\teval-error:0.125852\teval-logloss:0.277106\n",
      "[31]\ttrain-auc:0.948471\ttrain-error:0.110255\ttrain-logloss:0.243461\teval-auc:0.926827\teval-error:0.125914\teval-logloss:0.277229\n",
      "[32]\ttrain-auc:0.948733\ttrain-error:0.110009\ttrain-logloss:0.242886\teval-auc:0.926755\teval-error:0.125607\teval-logloss:0.277335\n",
      "[33]\ttrain-auc:0.948977\ttrain-error:0.109733\ttrain-logloss:0.242175\teval-auc:0.926765\teval-error:0.126589\teval-logloss:0.277242\n",
      "[34]\ttrain-auc:0.949222\ttrain-error:0.109364\ttrain-logloss:0.241458\teval-auc:0.926992\teval-error:0.126466\teval-logloss:0.276802\n",
      "[35]\ttrain-auc:0.949581\ttrain-error:0.109395\ttrain-logloss:0.240787\teval-auc:0.927107\teval-error:0.126589\teval-logloss:0.276656\n",
      "[36]\ttrain-auc:0.949645\ttrain-error:0.109425\ttrain-logloss:0.240562\teval-auc:0.927131\teval-error:0.126528\teval-logloss:0.276607\n",
      "[37]\ttrain-auc:0.950256\ttrain-error:0.108873\ttrain-logloss:0.239478\teval-auc:0.927023\teval-error:0.126958\teval-logloss:0.276782\n",
      "[38]\ttrain-auc:0.950591\ttrain-error:0.108381\ttrain-logloss:0.238827\teval-auc:0.92688\teval-error:0.127081\teval-logloss:0.277002\n",
      "[39]\ttrain-auc:0.950783\ttrain-error:0.10835\ttrain-logloss:0.238217\teval-auc:0.92711\teval-error:0.126835\teval-logloss:0.276556\n",
      "[40]\ttrain-auc:0.950845\ttrain-error:0.108289\ttrain-logloss:0.237977\teval-auc:0.927244\teval-error:0.126774\teval-logloss:0.276305\n",
      "[41]\ttrain-auc:0.951378\ttrain-error:0.107951\ttrain-logloss:0.236893\teval-auc:0.927177\teval-error:0.127019\teval-logloss:0.276398\n",
      "[42]\ttrain-auc:0.951757\ttrain-error:0.107644\ttrain-logloss:0.236094\teval-auc:0.927234\teval-error:0.126958\teval-logloss:0.276271\n",
      "[43]\ttrain-auc:0.952179\ttrain-error:0.107521\ttrain-logloss:0.235343\teval-auc:0.927266\teval-error:0.127081\teval-logloss:0.276276\n",
      "[44]\ttrain-auc:0.952212\ttrain-error:0.107521\ttrain-logloss:0.235236\teval-auc:0.927275\teval-error:0.127142\teval-logloss:0.27626\n",
      "[45]\ttrain-auc:0.952652\ttrain-error:0.106938\ttrain-logloss:0.23427\teval-auc:0.927256\teval-error:0.126651\teval-logloss:0.276316\n",
      "[46]\ttrain-auc:0.953032\ttrain-error:0.106324\ttrain-logloss:0.233478\teval-auc:0.927185\teval-error:0.126835\teval-logloss:0.276419\n",
      "[47]\ttrain-auc:0.953132\ttrain-error:0.106262\ttrain-logloss:0.233229\teval-auc:0.927193\teval-error:0.126835\teval-logloss:0.276416\n",
      "[48]\ttrain-auc:0.953677\ttrain-error:0.105771\ttrain-logloss:0.232177\teval-auc:0.927113\teval-error:0.127265\teval-logloss:0.276545\n",
      "[49]\ttrain-auc:0.953835\ttrain-error:0.105801\ttrain-logloss:0.231898\teval-auc:0.927066\teval-error:0.127019\teval-logloss:0.276636\n",
      "[50]\ttrain-auc:0.954467\ttrain-error:0.104665\ttrain-logloss:0.230717\teval-auc:0.926908\teval-error:0.127388\teval-logloss:0.27684\n",
      "[51]\ttrain-auc:0.954848\ttrain-error:0.104327\ttrain-logloss:0.22994\teval-auc:0.926693\teval-error:0.127449\teval-logloss:0.277173\n",
      "[52]\ttrain-auc:0.955119\ttrain-error:0.104112\ttrain-logloss:0.229425\teval-auc:0.926737\teval-error:0.127449\teval-logloss:0.277127\n",
      "[53]\ttrain-auc:0.955252\ttrain-error:0.103928\ttrain-logloss:0.228986\teval-auc:0.926956\teval-error:0.127326\teval-logloss:0.276713\n",
      "[54]\ttrain-auc:0.955431\ttrain-error:0.103774\ttrain-logloss:0.228534\teval-auc:0.927089\teval-error:0.127142\teval-logloss:0.276491\n",
      "[55]\ttrain-auc:0.955601\ttrain-error:0.103621\ttrain-logloss:0.228151\teval-auc:0.926986\teval-error:0.127142\teval-logloss:0.27667\n",
      "[56]\ttrain-auc:0.955686\ttrain-error:0.10359\ttrain-logloss:0.227929\teval-auc:0.926952\teval-error:0.127449\teval-logloss:0.276706\n",
      "[57]\ttrain-auc:0.955856\ttrain-error:0.103437\ttrain-logloss:0.22743\teval-auc:0.926955\teval-error:0.127388\teval-logloss:0.276733\n",
      "[58]\ttrain-auc:0.955978\ttrain-error:0.103344\ttrain-logloss:0.22718\teval-auc:0.927013\teval-error:0.127449\teval-logloss:0.276655\n",
      "[59]\ttrain-auc:0.956296\ttrain-error:0.103222\ttrain-logloss:0.226585\teval-auc:0.927025\teval-error:0.127818\teval-logloss:0.276682\n",
      "Stopping. Best iteration:\n",
      "[44]\ttrain-auc:0.952212\ttrain-error:0.107521\ttrain-logloss:0.235236\teval-auc:0.927275\teval-error:0.127142\teval-logloss:0.27626\n",
      "\n"
     ]
    }
   ],
   "source": [
    "#9.  XGBoost in XGboost way\n",
    "dtrain = xgb.DMatrix(x_train, label = y_train)\n",
    "dtest = xgb.DMatrix(x_test, label = y_test)\n",
    "params = {\n",
    "    'objective': 'binary:logistic',\n",
    "    'max_depth': 2,\n",
    "    'learning_rate': 0.3, # using bydeafault eta [default=0.3, alias: learning_rate]\n",
    "    'silent': True,    # would be boolean in sklearn\n",
    "    'booster' : 'gbtree',\n",
    "    'max_depth' : 7,\n",
    "    'eval_metric' : ['auc', 'error', 'logloss'],\n",
    "    \n",
    "    \n",
    "}\n",
    "num_rounds = 100  \n",
    "watchlist = [(dtrain,'train'),(dtest, 'eval')]\n",
    "\n",
    "eval_result = {}\n",
    "xgb_m = xgb.train(params, dtrain, num_rounds, evals = watchlist, evals_result=eval_result, early_stopping_rounds = 15, verbose_eval = True)\n",
    "\n",
    "# end xgboost model\n"
   ]
  },
  {
   "cell_type": "markdown",
   "metadata": {},
   "source": [
    "##### Observation:\n",
    "as per the above XGBoost in XGB way is the highest performing model even all the rest are with default parameters we can adjust parameters for better performance"
   ]
  },
  {
   "cell_type": "markdown",
   "metadata": {},
   "source": [
    "### Plotting the Log Loss in XGBoost"
   ]
  },
  {
   "cell_type": "code",
   "execution_count": 33,
   "metadata": {},
   "outputs": [],
   "source": [
    "# eval_result['train']['error']\n",
    "# eval_result['train']['logloss']\n",
    "# eval_result['eval']['error']\n",
    "# eval_result['eval']['logloss']\n",
    "#eval_result -- is a dictionary containing all evaluation results"
   ]
  },
  {
   "cell_type": "code",
   "execution_count": 34,
   "metadata": {},
   "outputs": [
    {
     "data": {
      "image/png": "[encoded data removed]",
      "text/plain": [
       "<Figure size 432x288 with 1 Axes>"
      ]
     },
     "metadata": {
      "needs_background": "light"
     },
     "output_type": "display_data"
    },
    {
     "data": {
      "image/png": "[encoded data removed]",
      "text/plain": [
       "<Figure size 432x288 with 1 Axes>"
      ]
     },
     "metadata": {
      "needs_background": "light"
     },
     "output_type": "display_data"
    }
   ],
   "source": [
    "#plot\n",
    "# retrieve performance metrics\n",
    "\n",
    "epochs = len(eval_result['train']['error'])\n",
    "x = range(0, epochs)\n",
    "# plot log loss\n",
    "fig, ax = plt.subplots()\n",
    "ax.plot(x, eval_result['train']['logloss'], label='Train')\n",
    "ax.plot(x, eval_result['eval']['logloss'], label='Test')\n",
    "ax.legend()\n",
    "plt.ylabel('Log Loss')\n",
    "plt.xlabel('Epochs')\n",
    "plt.title('XGBoost Log Loss')\n",
    "plt.show()\n",
    "# plot classification error\n",
    "fig, ax = plt.subplots()\n",
    "ax.plot(x, eval_result['train']['error'], label='Train')\n",
    "ax.plot(x, eval_result['eval']['error'], label='Test')\n",
    "ax.legend()\n",
    "plt.ylabel('Classification Error')\n",
    "plt.xlabel('Epochs')\n",
    "plt.title('XGBoost Classification Error')\n",
    "plt.show()"
   ]
  },
  {
   "cell_type": "markdown",
   "metadata": {},
   "source": [
    "### Important Features"
   ]
  },
  {
   "cell_type": "code",
   "execution_count": 35,
   "metadata": {},
   "outputs": [],
   "source": [
    "features_contribution = pd.Series(xgb_m.get_fscore()).sort_values(ascending=False)"
   ]
  },
  {
   "cell_type": "code",
   "execution_count": 36,
   "metadata": {},
   "outputs": [
    {
     "data": {
      "image/png": "[encoded data removed]",
      "text/plain": [
       "<Figure size 1440x720 with 1 Axes>"
      ]
     },
     "metadata": {
      "needs_background": "light"
     },
     "output_type": "display_data"
    }
   ],
   "source": [
    "plt.figure(figsize=(20,10))\n",
    "features_contribution[:50].plot(kind='bar', title='Feature Importances')\n",
    "#features_contribution[:50].plot(kind='line')\n",
    "plt.ylabel('Feature Importance Score')\n",
    "plt.show()"
   ]
  },
  {
   "cell_type": "code",
   "execution_count": 37,
   "metadata": {},
   "outputs": [],
   "source": [
    "ypred = xgb_m.predict(dtest)"
   ]
  },
  {
   "cell_type": "code",
   "execution_count": 56,
   "metadata": {},
   "outputs": [
    {
     "name": "stdout",
     "output_type": "stream",
     "text": [
      "[0.00291953 0.13501593 0.39508814 ... 0.79625547 0.02460182 0.79995364]\n",
      "Predictions [0 0 0 ... 1 0 1]\n"
     ]
    }
   ],
   "source": [
    "print(ypred)   # we can classify label by having thereshold .50\n",
    "#masking in 0 and 1\n",
    "y_xgb=np.where(ypred > 0.5, 1, 0)    # or simply can mask like   (ypred > .5).astype(int)\n",
    "print('Predictions', y_xgb)\n",
    "\n"
   ]
  },
  {
   "cell_type": "markdown",
   "metadata": {},
   "source": [
    "**Observations:** \n",
    "    --We can provide differnet parameters to above models\n",
    "    -- can select features repetitively to have better performance"
   ]
  }
 ],
 "metadata": {
  "kernelspec": {
   "display_name": "Python 3",
   "language": "python",
   "name": "python3"
  },
  "language_info": {
   "codemirror_mode": {
    "name": "ipython",
    "version": 3
   },
   "file_extension": ".py",
   "mimetype": "text/x-python",
   "name": "python",
   "nbconvert_exporter": "python",
   "pygments_lexer": "ipython3",
   "version": "3.7.0"
  }
 },
 "nbformat": 4,
 "nbformat_minor": 2
}
